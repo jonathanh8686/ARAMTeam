{
 "cells": [
  {
   "cell_type": "code",
   "execution_count": 14,
   "metadata": {},
   "outputs": [],
   "source": [
    "import numpy as np\n",
    "import tensorflow as tf\n",
    "\n",
    "import json\n",
    "import keras\n",
    "from keras.models import Sequential\n",
    "from keras.layers import Dense, Flatten, Dropout\n",
    "from tensorflow.keras import regularizers\n",
    "\n",
    "import cassiopeia as cass\n",
    "\n",
    "from sklearn.model_selection import train_test_split\n"
   ]
  },
  {
   "cell_type": "code",
   "execution_count": 2,
   "metadata": {
    "scrolled": true
   },
   "outputs": [
    {
     "name": "stdout",
     "output_type": "stream",
     "text": [
      "9086\n"
     ]
    }
   ],
   "source": [
    "matches = json.loads(open(\"matches.dat\", \"r\").read())\n",
    "print(len(matches))"
   ]
  },
  {
   "cell_type": "code",
   "execution_count": 3,
   "metadata": {
    "scrolled": true
   },
   "outputs": [
    {
     "name": "stdout",
     "output_type": "stream",
     "text": [
      "{15: 0, 41: 1, 43: 2, 222: 3, 238: 4, 268: 5, 68: 6, 29: 7, 163: 8, 81: 9, 112: 10, 117: 11, 119: 12, 164: 13, 26: 14, 61: 15, 245: 16, 98: 17, 126: 18, 24: 19, 518: 20, 101: 21, 11: 22, 76: 23, 79: 24, 30: 25, 50: 26, 145: 27, 20: 28, 21: 29, 54: 30, 22: 31, 8: 32, 51: 33, 32: 34, 3: 35, 498: 36, 122: 37, 45: 38, 67: 39, 102: 40, 114: 41, 4: 42, 48: 43, 202: 44, 25: 45, 111: 46, 412: 47, 63: 48, 23: 49, 427: 50, 235: 51, 57: 52, 127: 53, 60: 54, 875: 55, 19: 56, 103: 57, 432: 58, 44: 59, 420: 60, 517: 61, 350: 62, 7: 63, 10: 64, 31: 65, 14: 66, 40: 67, 516: 68, 154: 69, 104: 70, 203: 71, 89: 72, 53: 73, 131: 74, 74: 75, 55: 76, 1: 77, 429: 78, 34: 79, 13: 80, 99: 81, 90: 82, 110: 83, 85: 84, 17: 85, 91: 86, 80: 87, 136: 88, 39: 89, 18: 90, 254: 91, 72: 92, 555: 93, 2: 94, 161: 95, 16: 96, 96: 97, 223: 98, 134: 99, 92: 100, 84: 101, 113: 102, 35: 103, 9: 104, 497: 105, 266: 106, 267: 107, 142: 108, 36: 109, 133: 110, 201: 111, 78: 112, 157: 113, 59: 114, 246: 115, 37: 116, 121: 117, 12: 118, 86: 119, 236: 120, 64: 121, 62: 122, 141: 123, 240: 124, 42: 125, 115: 126, 75: 127, 150: 128, 107: 129, 120: 130, 82: 131, 28: 132, 58: 133, 38: 134, 105: 135, 106: 136, 143: 137, 5: 138, 83: 139, 27: 140, 69: 141, 77: 142, 6: 143, 421: 144, 33: 145, 523: 146, 56: 147, 876: 148}\n"
     ]
    }
   ],
   "source": [
    "# because riot randomly (????) assigns their keys to champions (????????)\n",
    "\n",
    "keyid = {}\n",
    "for match in matches:\n",
    "    for c in match[\"blueteam\"]:\n",
    "        if(c not in keyid):\n",
    "            keyid[c] = len(keyid.keys())\n",
    "    for c in match[\"redteam\"]:\n",
    "        if(c not in keyid):\n",
    "            keyid[c] = len(keyid.keys())\n",
    "\n",
    "print(keyid)"
   ]
  },
  {
   "cell_type": "code",
   "execution_count": 4,
   "metadata": {},
   "outputs": [],
   "source": [
    "def get_x_from_teams(blueteam, redteam):\n",
    "    xtemp = []\n",
    "    for c in blueteam:\n",
    "        xtemp.append(tf.keras.utils.to_categorical(keyid[c], num_classes=149))\n",
    "    \n",
    "    for c in redteam:\n",
    "        xtemp.append(tf.keras.utils.to_categorical(keyid[c], num_classes=149))\n",
    "    return xtemp"
   ]
  },
  {
   "cell_type": "code",
   "execution_count": 5,
   "metadata": {},
   "outputs": [],
   "source": [
    "x_data, y_data = [], []\n",
    "\n",
    "count = 0\n",
    "for match in matches:\n",
    "    blueteam = match[\"blueteam\"]\n",
    "    redteam = match[\"redteam\"]\n",
    "    \n",
    "    x_data.append(get_x_from_teams(blueteam, redteam))\n",
    "    y_data.append([1, 0] if match[\"result\"] == 1 else [0, 1])\n",
    "    "
   ]
  },
  {
   "cell_type": "code",
   "execution_count": 6,
   "metadata": {},
   "outputs": [],
   "source": [
    "train_x, test_x, train_y, test_y = train_test_split(x_data, y_data, test_size=0.1)\n",
    "\n",
    "train_x = np.array(train_x)\n",
    "train_y = np.array(train_y)\n",
    "\n",
    "test_x = np.array(test_x)\n",
    "test_y = np.array(test_y)"
   ]
  },
  {
   "cell_type": "code",
   "execution_count": 7,
   "metadata": {},
   "outputs": [],
   "source": [
    "model = Sequential()\n",
    "\n",
    "model.add(Flatten(input_shape=(10, 149)))\n",
    "\n",
    "model.add(Dropout(0.3))\n",
    "model.add(Dense(4, \n",
    "                activation=\"relu\",\n",
    "                kernel_regularizer=tf.keras.regularizers.l1_l2(l1=1e-5, l2=1e-4),\n",
    "                bias_regularizer=tf.keras.regularizers.l2(1e-4),\n",
    "                activity_regularizer=tf.keras.regularizers.l2(1e-5)))\n",
    "\n",
    "model.add(Dense(2, activation=\"softmax\"))\n",
    "\n",
    "model.compile(loss='categorical_crossentropy', optimizer='adam', metrics=['accuracy'])"
   ]
  },
  {
   "cell_type": "code",
   "execution_count": 8,
   "metadata": {},
   "outputs": [
    {
     "name": "stdout",
     "output_type": "stream",
     "text": [
      "Epoch 1/100\n",
      "512/512 [==============================] - 1s 2ms/step - loss: 0.6935 - accuracy: 0.5202 - val_loss: 0.6885 - val_accuracy: 0.5523\n",
      "Epoch 2/100\n",
      "512/512 [==============================] - 1s 2ms/step - loss: 0.6742 - accuracy: 0.5893 - val_loss: 0.6835 - val_accuracy: 0.5743\n",
      "Epoch 3/100\n",
      "512/512 [==============================] - 1s 2ms/step - loss: 0.6528 - accuracy: 0.6232 - val_loss: 0.6872 - val_accuracy: 0.5688\n",
      "Epoch 4/100\n",
      "512/512 [==============================] - 1s 2ms/step - loss: 0.6374 - accuracy: 0.6383 - val_loss: 0.6925 - val_accuracy: 0.5578\n",
      "Epoch 5/100\n",
      "512/512 [==============================] - 1s 2ms/step - loss: 0.6291 - accuracy: 0.6462 - val_loss: 0.6924 - val_accuracy: 0.5633\n",
      "Epoch 6/100\n",
      "512/512 [==============================] - 1s 1ms/step - loss: 0.6248 - accuracy: 0.6555 - val_loss: 0.6968 - val_accuracy: 0.5578\n",
      "Epoch 7/100\n",
      "512/512 [==============================] - 1s 1ms/step - loss: 0.6157 - accuracy: 0.6577 - val_loss: 0.7009 - val_accuracy: 0.5743\n",
      "Epoch 8/100\n",
      "512/512 [==============================] - 1s 2ms/step - loss: 0.6067 - accuracy: 0.6715 - val_loss: 0.7075 - val_accuracy: 0.5666\n",
      "Epoch 9/100\n",
      "512/512 [==============================] - 1s 2ms/step - loss: 0.6027 - accuracy: 0.6713 - val_loss: 0.7168 - val_accuracy: 0.5523\n",
      "Epoch 10/100\n",
      "512/512 [==============================] - 1s 2ms/step - loss: 0.6015 - accuracy: 0.6756 - val_loss: 0.7180 - val_accuracy: 0.5501\n",
      "Epoch 11/100\n",
      "512/512 [==============================] - 1s 2ms/step - loss: 0.5925 - accuracy: 0.6815 - val_loss: 0.7240 - val_accuracy: 0.5479\n",
      "Epoch 12/100\n",
      "512/512 [==============================] - 1s 2ms/step - loss: 0.5915 - accuracy: 0.6834 - val_loss: 0.7204 - val_accuracy: 0.5556\n",
      "Epoch 13/100\n",
      "512/512 [==============================] - 1s 2ms/step - loss: 0.5839 - accuracy: 0.6891 - val_loss: 0.7304 - val_accuracy: 0.5567\n",
      "Epoch 14/100\n",
      "512/512 [==============================] - 1s 2ms/step - loss: 0.5783 - accuracy: 0.6926 - val_loss: 0.7334 - val_accuracy: 0.5721\n",
      "Epoch 15/100\n",
      "512/512 [==============================] - 1s 2ms/step - loss: 0.5804 - accuracy: 0.6971 - val_loss: 0.7367 - val_accuracy: 0.5523\n",
      "Epoch 16/100\n",
      "512/512 [==============================] - 1s 2ms/step - loss: 0.5692 - accuracy: 0.7000 - val_loss: 0.7474 - val_accuracy: 0.5336\n",
      "Epoch 17/100\n",
      "512/512 [==============================] - 1s 1ms/step - loss: 0.5652 - accuracy: 0.6978 - val_loss: 0.7456 - val_accuracy: 0.5523\n",
      "Epoch 18/100\n",
      "512/512 [==============================] - 1s 1ms/step - loss: 0.5618 - accuracy: 0.7015 - val_loss: 0.7445 - val_accuracy: 0.5479\n",
      "Epoch 19/100\n",
      "512/512 [==============================] - 1s 2ms/step - loss: 0.5543 - accuracy: 0.7146 - val_loss: 0.7538 - val_accuracy: 0.5556\n",
      "Epoch 20/100\n",
      "512/512 [==============================] - 1s 2ms/step - loss: 0.5613 - accuracy: 0.7104 - val_loss: 0.7572 - val_accuracy: 0.5347\n",
      "Epoch 21/100\n",
      "512/512 [==============================] - 1s 2ms/step - loss: 0.5520 - accuracy: 0.7131 - val_loss: 0.7640 - val_accuracy: 0.5336\n",
      "Epoch 22/100\n",
      "512/512 [==============================] - 1s 2ms/step - loss: 0.5486 - accuracy: 0.7099 - val_loss: 0.7691 - val_accuracy: 0.5281\n",
      "Epoch 23/100\n",
      "512/512 [==============================] - 1s 1ms/step - loss: 0.5423 - accuracy: 0.7174 - val_loss: 0.7755 - val_accuracy: 0.5446\n",
      "Epoch 24/100\n",
      "512/512 [==============================] - 1s 1ms/step - loss: 0.5426 - accuracy: 0.7177 - val_loss: 0.7817 - val_accuracy: 0.5490\n",
      "Epoch 25/100\n",
      "512/512 [==============================] - 1s 1ms/step - loss: 0.5430 - accuracy: 0.7192 - val_loss: 0.7849 - val_accuracy: 0.5402\n",
      "Epoch 26/100\n",
      "512/512 [==============================] - 1s 2ms/step - loss: 0.5361 - accuracy: 0.7273 - val_loss: 0.7898 - val_accuracy: 0.5512\n",
      "Epoch 27/100\n",
      "512/512 [==============================] - 1s 2ms/step - loss: 0.5337 - accuracy: 0.7279 - val_loss: 0.7933 - val_accuracy: 0.5413\n",
      "Epoch 28/100\n",
      "512/512 [==============================] - 1s 1ms/step - loss: 0.5309 - accuracy: 0.7254 - val_loss: 0.7916 - val_accuracy: 0.5501\n",
      "Epoch 29/100\n",
      "512/512 [==============================] - 1s 2ms/step - loss: 0.5294 - accuracy: 0.7264 - val_loss: 0.7951 - val_accuracy: 0.5556\n",
      "Epoch 30/100\n",
      "512/512 [==============================] - 1s 2ms/step - loss: 0.5321 - accuracy: 0.7230 - val_loss: 0.7948 - val_accuracy: 0.5479\n",
      "Epoch 31/100\n",
      "512/512 [==============================] - 1s 2ms/step - loss: 0.5389 - accuracy: 0.7149 - val_loss: 0.7997 - val_accuracy: 0.5369\n",
      "Epoch 32/100\n",
      "512/512 [==============================] - 1s 2ms/step - loss: 0.5284 - accuracy: 0.7325 - val_loss: 0.8075 - val_accuracy: 0.5446\n",
      "Epoch 33/100\n",
      "512/512 [==============================] - 1s 2ms/step - loss: 0.5286 - accuracy: 0.7266 - val_loss: 0.8099 - val_accuracy: 0.5347\n",
      "Epoch 34/100\n",
      "512/512 [==============================] - 1s 2ms/step - loss: 0.5219 - accuracy: 0.7372 - val_loss: 0.8159 - val_accuracy: 0.5314\n",
      "Epoch 35/100\n",
      "512/512 [==============================] - 1s 2ms/step - loss: 0.5240 - accuracy: 0.7369 - val_loss: 0.8212 - val_accuracy: 0.5358\n",
      "Epoch 36/100\n",
      "512/512 [==============================] - 1s 1ms/step - loss: 0.5129 - accuracy: 0.7398 - val_loss: 0.8273 - val_accuracy: 0.5226\n",
      "Epoch 37/100\n",
      "512/512 [==============================] - 1s 1ms/step - loss: 0.5272 - accuracy: 0.7295 - val_loss: 0.8248 - val_accuracy: 0.5303\n",
      "Epoch 38/100\n",
      "512/512 [==============================] - 1s 1ms/step - loss: 0.5176 - accuracy: 0.7393 - val_loss: 0.8331 - val_accuracy: 0.5336\n",
      "Epoch 39/100\n",
      "512/512 [==============================] - 1s 2ms/step - loss: 0.5203 - accuracy: 0.7339 - val_loss: 0.8467 - val_accuracy: 0.5281\n",
      "Epoch 40/100\n",
      "512/512 [==============================] - 1s 2ms/step - loss: 0.5161 - accuracy: 0.7343 - val_loss: 0.8407 - val_accuracy: 0.5226\n",
      "Epoch 41/100\n",
      "512/512 [==============================] - 1s 2ms/step - loss: 0.5219 - accuracy: 0.7377 - val_loss: 0.8387 - val_accuracy: 0.5237\n",
      "Epoch 42/100\n",
      "512/512 [==============================] - 1s 2ms/step - loss: 0.5179 - accuracy: 0.7350 - val_loss: 0.8509 - val_accuracy: 0.5149\n",
      "Epoch 43/100\n",
      "512/512 [==============================] - 1s 2ms/step - loss: 0.5204 - accuracy: 0.7305 - val_loss: 0.8371 - val_accuracy: 0.5281\n",
      "Epoch 44/100\n",
      "512/512 [==============================] - 1s 2ms/step - loss: 0.5155 - accuracy: 0.7361 - val_loss: 0.8365 - val_accuracy: 0.5347\n",
      "Epoch 45/100\n",
      "512/512 [==============================] - 1s 2ms/step - loss: 0.5182 - accuracy: 0.7363 - val_loss: 0.8355 - val_accuracy: 0.5160\n",
      "Epoch 46/100\n",
      "512/512 [==============================] - 1s 2ms/step - loss: 0.5157 - accuracy: 0.7372 - val_loss: 0.8452 - val_accuracy: 0.5292\n",
      "Epoch 47/100\n",
      "512/512 [==============================] - 1s 2ms/step - loss: 0.5080 - accuracy: 0.7396 - val_loss: 0.8470 - val_accuracy: 0.5336\n",
      "Epoch 48/100\n",
      "512/512 [==============================] - 1s 2ms/step - loss: 0.5194 - accuracy: 0.7418 - val_loss: 0.8584 - val_accuracy: 0.5380\n",
      "Epoch 49/100\n",
      "512/512 [==============================] - 1s 2ms/step - loss: 0.5086 - accuracy: 0.7416 - val_loss: 0.8542 - val_accuracy: 0.5336\n",
      "Epoch 50/100\n",
      "512/512 [==============================] - 1s 1ms/step - loss: 0.5158 - accuracy: 0.7453 - val_loss: 0.8496 - val_accuracy: 0.5380\n",
      "Epoch 51/100\n",
      "512/512 [==============================] - 1s 2ms/step - loss: 0.5186 - accuracy: 0.7413 - val_loss: 0.8507 - val_accuracy: 0.5369\n",
      "Epoch 52/100\n",
      "512/512 [==============================] - 1s 2ms/step - loss: 0.5112 - accuracy: 0.7395 - val_loss: 0.8473 - val_accuracy: 0.5457\n",
      "Epoch 53/100\n",
      "512/512 [==============================] - 1s 2ms/step - loss: 0.5143 - accuracy: 0.7400 - val_loss: 0.8500 - val_accuracy: 0.5369\n",
      "Epoch 54/100\n",
      "512/512 [==============================] - 1s 2ms/step - loss: 0.5076 - accuracy: 0.7432 - val_loss: 0.8575 - val_accuracy: 0.5325\n",
      "Epoch 55/100\n",
      "512/512 [==============================] - 1s 2ms/step - loss: 0.5119 - accuracy: 0.7426 - val_loss: 0.8437 - val_accuracy: 0.5424\n",
      "Epoch 56/100\n",
      "512/512 [==============================] - 1s 2ms/step - loss: 0.5084 - accuracy: 0.7526 - val_loss: 0.8606 - val_accuracy: 0.5413\n",
      "Epoch 57/100\n",
      "512/512 [==============================] - 1s 2ms/step - loss: 0.5107 - accuracy: 0.7405 - val_loss: 0.8533 - val_accuracy: 0.5336\n"
     ]
    },
    {
     "name": "stdout",
     "output_type": "stream",
     "text": [
      "Epoch 58/100\n",
      "512/512 [==============================] - 1s 1ms/step - loss: 0.5090 - accuracy: 0.7455 - val_loss: 0.8528 - val_accuracy: 0.5391\n",
      "Epoch 59/100\n",
      "512/512 [==============================] - 1s 1ms/step - loss: 0.5141 - accuracy: 0.7424 - val_loss: 0.8583 - val_accuracy: 0.5424\n",
      "Epoch 60/100\n",
      "512/512 [==============================] - 1s 1ms/step - loss: 0.5119 - accuracy: 0.7424 - val_loss: 0.8532 - val_accuracy: 0.5446\n",
      "Epoch 61/100\n",
      "512/512 [==============================] - 1s 1ms/step - loss: 0.5065 - accuracy: 0.7448 - val_loss: 0.8563 - val_accuracy: 0.5391\n",
      "Epoch 62/100\n",
      "512/512 [==============================] - 1s 1ms/step - loss: 0.5142 - accuracy: 0.7428 - val_loss: 0.8604 - val_accuracy: 0.5380\n",
      "Epoch 63/100\n",
      "512/512 [==============================] - 1s 1ms/step - loss: 0.5083 - accuracy: 0.7446 - val_loss: 0.8662 - val_accuracy: 0.5391\n",
      "Epoch 64/100\n",
      "512/512 [==============================] - 1s 1ms/step - loss: 0.5085 - accuracy: 0.7400 - val_loss: 0.8641 - val_accuracy: 0.5325\n",
      "Epoch 65/100\n",
      "512/512 [==============================] - 1s 1ms/step - loss: 0.5144 - accuracy: 0.7487 - val_loss: 0.8611 - val_accuracy: 0.5424\n",
      "Epoch 66/100\n",
      "512/512 [==============================] - 1s 2ms/step - loss: 0.5105 - accuracy: 0.7440 - val_loss: 0.8686 - val_accuracy: 0.5314\n",
      "Epoch 67/100\n",
      "512/512 [==============================] - 1s 1ms/step - loss: 0.5109 - accuracy: 0.7438 - val_loss: 0.8628 - val_accuracy: 0.5435\n",
      "Epoch 68/100\n",
      "512/512 [==============================] - 1s 1ms/step - loss: 0.5036 - accuracy: 0.7528 - val_loss: 0.8642 - val_accuracy: 0.5446\n",
      "Epoch 69/100\n",
      "512/512 [==============================] - 1s 1ms/step - loss: 0.5048 - accuracy: 0.7504 - val_loss: 0.8667 - val_accuracy: 0.5413\n",
      "Epoch 70/100\n",
      "512/512 [==============================] - 1s 1ms/step - loss: 0.5083 - accuracy: 0.7459 - val_loss: 0.8623 - val_accuracy: 0.5534\n",
      "Epoch 71/100\n",
      "512/512 [==============================] - 1s 1ms/step - loss: 0.5085 - accuracy: 0.7473 - val_loss: 0.8634 - val_accuracy: 0.5424\n",
      "Epoch 72/100\n",
      "512/512 [==============================] - 1s 1ms/step - loss: 0.5090 - accuracy: 0.7460 - val_loss: 0.8715 - val_accuracy: 0.5446\n",
      "Epoch 73/100\n",
      "512/512 [==============================] - 1s 1ms/step - loss: 0.5126 - accuracy: 0.7459 - val_loss: 0.8648 - val_accuracy: 0.5567\n",
      "Epoch 74/100\n",
      "512/512 [==============================] - 1s 1ms/step - loss: 0.5098 - accuracy: 0.7429 - val_loss: 0.8722 - val_accuracy: 0.5347\n",
      "Epoch 75/100\n",
      "512/512 [==============================] - 1s 1ms/step - loss: 0.5166 - accuracy: 0.7438 - val_loss: 0.8721 - val_accuracy: 0.5490\n",
      "Epoch 76/100\n",
      "512/512 [==============================] - 1s 1ms/step - loss: 0.5016 - accuracy: 0.7450 - val_loss: 0.8700 - val_accuracy: 0.5457\n",
      "Epoch 77/100\n",
      "512/512 [==============================] - 1s 1ms/step - loss: 0.5030 - accuracy: 0.7487 - val_loss: 0.8777 - val_accuracy: 0.5369\n",
      "Epoch 78/100\n",
      "512/512 [==============================] - 1s 1ms/step - loss: 0.5069 - accuracy: 0.7428 - val_loss: 0.8726 - val_accuracy: 0.5358\n",
      "Epoch 79/100\n",
      "512/512 [==============================] - 1s 1ms/step - loss: 0.5113 - accuracy: 0.7415 - val_loss: 0.8704 - val_accuracy: 0.5468\n",
      "Epoch 80/100\n",
      "512/512 [==============================] - 1s 1ms/step - loss: 0.5061 - accuracy: 0.7461 - val_loss: 0.8751 - val_accuracy: 0.5281\n",
      "Epoch 81/100\n",
      "512/512 [==============================] - 1s 1ms/step - loss: 0.5076 - accuracy: 0.7444 - val_loss: 0.8691 - val_accuracy: 0.5402\n",
      "Epoch 82/100\n",
      "512/512 [==============================] - 1s 2ms/step - loss: 0.5061 - accuracy: 0.7506 - val_loss: 0.8784 - val_accuracy: 0.5369\n",
      "Epoch 83/100\n",
      "512/512 [==============================] - 1s 2ms/step - loss: 0.5066 - accuracy: 0.7458 - val_loss: 0.8737 - val_accuracy: 0.5501\n",
      "Epoch 84/100\n",
      "512/512 [==============================] - 1s 2ms/step - loss: 0.4996 - accuracy: 0.7513 - val_loss: 0.8889 - val_accuracy: 0.5435\n",
      "Epoch 85/100\n",
      "512/512 [==============================] - 1s 2ms/step - loss: 0.5008 - accuracy: 0.7508 - val_loss: 0.8905 - val_accuracy: 0.5391\n",
      "Epoch 86/100\n",
      "512/512 [==============================] - 1s 1ms/step - loss: 0.5018 - accuracy: 0.7473 - val_loss: 0.8935 - val_accuracy: 0.5303\n",
      "Epoch 87/100\n",
      "512/512 [==============================] - 1s 1ms/step - loss: 0.5076 - accuracy: 0.7459 - val_loss: 0.8950 - val_accuracy: 0.5281\n",
      "Epoch 88/100\n",
      "512/512 [==============================] - 1s 2ms/step - loss: 0.5172 - accuracy: 0.7432 - val_loss: 0.8921 - val_accuracy: 0.5259\n",
      "Epoch 89/100\n",
      "512/512 [==============================] - 1s 1ms/step - loss: 0.5028 - accuracy: 0.7464 - val_loss: 0.8929 - val_accuracy: 0.5446\n",
      "Epoch 90/100\n",
      "512/512 [==============================] - 1s 2ms/step - loss: 0.5179 - accuracy: 0.7388 - val_loss: 0.8843 - val_accuracy: 0.5391\n",
      "Epoch 91/100\n",
      "512/512 [==============================] - 1s 2ms/step - loss: 0.5107 - accuracy: 0.7484 - val_loss: 0.8779 - val_accuracy: 0.5391\n",
      "Epoch 92/100\n",
      "512/512 [==============================] - 1s 1ms/step - loss: 0.5036 - accuracy: 0.7482 - val_loss: 0.8761 - val_accuracy: 0.5347\n",
      "Epoch 93/100\n",
      "512/512 [==============================] - 1s 1ms/step - loss: 0.5033 - accuracy: 0.7495 - val_loss: 0.8861 - val_accuracy: 0.5358\n",
      "Epoch 94/100\n",
      "512/512 [==============================] - 1s 1ms/step - loss: 0.5056 - accuracy: 0.7475 - val_loss: 0.8831 - val_accuracy: 0.5380\n",
      "Epoch 95/100\n",
      "512/512 [==============================] - 1s 1ms/step - loss: 0.5035 - accuracy: 0.7509 - val_loss: 0.8903 - val_accuracy: 0.5358\n",
      "Epoch 96/100\n",
      "512/512 [==============================] - 1s 1ms/step - loss: 0.4999 - accuracy: 0.7525 - val_loss: 0.8835 - val_accuracy: 0.5457\n",
      "Epoch 97/100\n",
      "512/512 [==============================] - 1s 1ms/step - loss: 0.4981 - accuracy: 0.7524 - val_loss: 0.8871 - val_accuracy: 0.5413\n",
      "Epoch 98/100\n",
      "512/512 [==============================] - 1s 1ms/step - loss: 0.5024 - accuracy: 0.7459 - val_loss: 0.8837 - val_accuracy: 0.5336\n",
      "Epoch 99/100\n",
      "512/512 [==============================] - 1s 1ms/step - loss: 0.5071 - accuracy: 0.7467 - val_loss: 0.8820 - val_accuracy: 0.5446\n",
      "Epoch 100/100\n",
      "512/512 [==============================] - 1s 1ms/step - loss: 0.5081 - accuracy: 0.7440 - val_loss: 0.8841 - val_accuracy: 0.5435\n"
     ]
    }
   ],
   "source": [
    "history = model.fit(train_x, train_y, epochs=100, batch_size=16, validation_data=(test_x, test_y))\n"
   ]
  },
  {
   "cell_type": "code",
   "execution_count": 10,
   "metadata": {},
   "outputs": [
    {
     "data": {
      "image/png": "[encoded data removed]",
      "text/plain": [
       "<Figure size 432x288 with 1 Axes>"
      ]
     },
     "metadata": {
      "needs_background": "light"
     },
     "output_type": "display_data"
    },
    {
     "data": {
      "image/png": "[encoded data removed]",
      "text/plain": [
       "<Figure size 432x288 with 1 Axes>"
      ]
     },
     "metadata": {
      "needs_background": "light"
     },
     "output_type": "display_data"
    }
   ],
   "source": [
    "import matplotlib.pyplot as plt\n",
    "plt.plot(history.history['accuracy'])\n",
    "plt.plot(history.history['val_accuracy'])\n",
    "plt.title('Model accuracy')\n",
    "plt.ylabel('Accuracy')\n",
    "plt.xlabel('Epoch')\n",
    "plt.legend(['Train', 'Test'], loc='upper left')\n",
    "plt.show()\n",
    "\n",
    "plt.plot(history.history['loss'])\n",
    "plt.plot(history.history['val_loss']) \n",
    "plt.title('Model loss') \n",
    "plt.ylabel('Loss') \n",
    "plt.xlabel('Epoch') \n",
    "plt.legend(['Train', 'Test'], loc='upper left') \n",
    "plt.show()"
   ]
  },
  {
   "cell_type": "code",
   "execution_count": 45,
   "metadata": {},
   "outputs": [
    {
     "name": "stdout",
     "output_type": "stream",
     "text": [
      "1\n",
      "[[0.10724777 0.89275223]]\n"
     ]
    }
   ],
   "source": [
    "bluenames = [\"Ahri\", \"Graves\", \"Yasuo\", \"Rumble\", \"Tristana\"]\n",
    "rednames = [\"Veigar\", \"Qiyana\", \"Twisted Fate\", \"Amumu\", \"Blitzcrank\"]\n",
    "\n",
    "blueteam = [cass.Champion(name=x, region=\"NA\").id for x in bluenames]\n",
    "redteam = [cass.Champion(name=x, region=\"NA\").id for x in rednames]\n",
    "\n",
    "\n",
    "custx, custy = [], []\n",
    "\n",
    "tmp = []\n",
    "for c in blueteam:\n",
    "    tmp.append(tf.keras.utils.to_categorical(keyid[c], num_classes=149))\n",
    "    \n",
    "for c in redteam:\n",
    "    tmp.append(tf.keras.utils.to_categorical(keyid[c], num_classes=149))\n",
    "    \n",
    "custx.append(tmp)\n",
    "\n",
    "custy = model.predict(np.array(custx))\n",
    "\n",
    "print(np.argmax(custy))\n",
    "print(custy)"
   ]
  },
  {
   "cell_type": "code",
   "execution_count": 41,
   "metadata": {},
   "outputs": [
    {
     "ename": "NotFoundError",
     "evalue": "No source returned a query result!",
     "output_type": "error",
     "traceback": [
      "\u001b[0;31m---------------------------------------------------------------------------\u001b[0m",
      "\u001b[0;31mAttributeError\u001b[0m                            Traceback (most recent call last)",
      "\u001b[0;32m~/.local/lib/python3.8/site-packages/merakicommons/ghost.py\u001b[0m in \u001b[0;36mwrapper\u001b[0;34m(*args, **kwargs)\u001b[0m\n\u001b[1;32m     40\u001b[0m             \u001b[0;32mtry\u001b[0m\u001b[0;34m:\u001b[0m\u001b[0;34m\u001b[0m\u001b[0;34m\u001b[0m\u001b[0m\n\u001b[0;32m---> 41\u001b[0;31m                 \u001b[0;32mreturn\u001b[0m \u001b[0mmethod\u001b[0m\u001b[0;34m(\u001b[0m\u001b[0;34m*\u001b[0m\u001b[0margs\u001b[0m\u001b[0;34m,\u001b[0m \u001b[0;34m**\u001b[0m\u001b[0mkwargs\u001b[0m\u001b[0;34m)\u001b[0m\u001b[0;34m\u001b[0m\u001b[0;34m\u001b[0m\u001b[0m\n\u001b[0m\u001b[1;32m     42\u001b[0m             \u001b[0;32mexcept\u001b[0m \u001b[0merrors\u001b[0m \u001b[0;32mas\u001b[0m \u001b[0merror\u001b[0m\u001b[0;34m:\u001b[0m\u001b[0;34m\u001b[0m\u001b[0;34m\u001b[0m\u001b[0m\n",
      "\u001b[0;32m~/.local/lib/python3.8/site-packages/cassiopeia/core/staticdata/champion.py\u001b[0m in \u001b[0;36mid\u001b[0;34m(self)\u001b[0m\n\u001b[1;32m    672\u001b[0m         \u001b[0;34m\"\"\"The champion's ID.\"\"\"\u001b[0m\u001b[0;34m\u001b[0m\u001b[0;34m\u001b[0m\u001b[0m\n\u001b[0;32m--> 673\u001b[0;31m         \u001b[0;32mreturn\u001b[0m \u001b[0mself\u001b[0m\u001b[0;34m.\u001b[0m\u001b[0m_data\u001b[0m\u001b[0;34m[\u001b[0m\u001b[0mChampionData\u001b[0m\u001b[0;34m]\u001b[0m\u001b[0;34m.\u001b[0m\u001b[0mid\u001b[0m\u001b[0;34m\u001b[0m\u001b[0;34m\u001b[0m\u001b[0m\n\u001b[0m\u001b[1;32m    674\u001b[0m \u001b[0;34m\u001b[0m\u001b[0m\n",
      "\u001b[0;31mAttributeError\u001b[0m: 'ChampionData' object has no attribute 'id'",
      "\nDuring handling of the above exception, another exception occurred:\n",
      "\u001b[0;31mGhostLoadingRequiredError\u001b[0m                 Traceback (most recent call last)",
      "\u001b[0;32m~/.local/lib/python3.8/site-packages/merakicommons/ghost.py\u001b[0m in \u001b[0;36m__get__\u001b[0;34m(self, obj, obj_type)\u001b[0m\n\u001b[1;32m     86\u001b[0m             \u001b[0;32mtry\u001b[0m\u001b[0;34m:\u001b[0m\u001b[0;34m\u001b[0m\u001b[0;34m\u001b[0m\u001b[0m\n\u001b[0;32m---> 87\u001b[0;31m                 \u001b[0;32mreturn\u001b[0m \u001b[0mself\u001b[0m\u001b[0;34m.\u001b[0m\u001b[0mfget\u001b[0m\u001b[0;34m(\u001b[0m\u001b[0mobj\u001b[0m\u001b[0;34m)\u001b[0m\u001b[0;34m\u001b[0m\u001b[0;34m\u001b[0m\u001b[0m\n\u001b[0m\u001b[1;32m     88\u001b[0m             \u001b[0;32mexcept\u001b[0m \u001b[0mGhostLoadingRequiredError\u001b[0m\u001b[0;34m:\u001b[0m\u001b[0;34m\u001b[0m\u001b[0;34m\u001b[0m\u001b[0m\n",
      "\u001b[0;32m~/.local/lib/python3.8/site-packages/merakicommons/ghost.py\u001b[0m in \u001b[0;36mwrapper\u001b[0;34m(*args, **kwargs)\u001b[0m\n\u001b[1;32m     42\u001b[0m             \u001b[0;32mexcept\u001b[0m \u001b[0merrors\u001b[0m \u001b[0;32mas\u001b[0m \u001b[0merror\u001b[0m\u001b[0;34m:\u001b[0m\u001b[0;34m\u001b[0m\u001b[0;34m\u001b[0m\u001b[0m\n\u001b[0;32m---> 43\u001b[0;31m                 \u001b[0;32mraise\u001b[0m \u001b[0mGhostLoadingRequiredError\u001b[0m\u001b[0;34m(\u001b[0m\u001b[0mstr\u001b[0m\u001b[0;34m(\u001b[0m\u001b[0merror\u001b[0m\u001b[0;34m)\u001b[0m\u001b[0;34m)\u001b[0m\u001b[0;34m\u001b[0m\u001b[0;34m\u001b[0m\u001b[0m\n\u001b[0m\u001b[1;32m     44\u001b[0m         \u001b[0;32mreturn\u001b[0m \u001b[0mwrapper\u001b[0m\u001b[0;34m\u001b[0m\u001b[0;34m\u001b[0m\u001b[0m\n",
      "\u001b[0;31mGhostLoadingRequiredError\u001b[0m: 'ChampionData' object has no attribute 'id'",
      "\nDuring handling of the above exception, another exception occurred:\n",
      "\u001b[0;31mNotFoundError\u001b[0m                             Traceback (most recent call last)",
      "\u001b[0;32m<ipython-input-41-d886d5a9b028>\u001b[0m in \u001b[0;36m<module>\u001b[0;34m\u001b[0m\n\u001b[0;32m----> 1\u001b[0;31m \u001b[0mcass\u001b[0m\u001b[0;34m.\u001b[0m\u001b[0mChampion\u001b[0m\u001b[0;34m(\u001b[0m\u001b[0mname\u001b[0m\u001b[0;34m=\u001b[0m\u001b[0;34m\"Cassioepia\"\u001b[0m\u001b[0;34m,\u001b[0m \u001b[0mregion\u001b[0m\u001b[0;34m=\u001b[0m\u001b[0;34m\"NA\"\u001b[0m\u001b[0;34m)\u001b[0m\u001b[0;34m.\u001b[0m\u001b[0mid\u001b[0m\u001b[0;34m\u001b[0m\u001b[0;34m\u001b[0m\u001b[0m\n\u001b[0m",
      "\u001b[0;32m~/.local/lib/python3.8/site-packages/merakicommons/ghost.py\u001b[0m in \u001b[0;36m__get__\u001b[0;34m(self, obj, obj_type)\u001b[0m\n\u001b[1;32m     88\u001b[0m             \u001b[0;32mexcept\u001b[0m \u001b[0mGhostLoadingRequiredError\u001b[0m\u001b[0;34m:\u001b[0m\u001b[0;34m\u001b[0m\u001b[0;34m\u001b[0m\u001b[0m\n\u001b[1;32m     89\u001b[0m                 \u001b[0mload_group\u001b[0m \u001b[0;34m=\u001b[0m \u001b[0mself\u001b[0m\u001b[0;34m.\u001b[0m\u001b[0mfget\u001b[0m\u001b[0;34m.\u001b[0m\u001b[0m_Ghost__load_group\u001b[0m\u001b[0;34m\u001b[0m\u001b[0;34m\u001b[0m\u001b[0m\n\u001b[0;32m---> 90\u001b[0;31m                 \u001b[0mobj\u001b[0m\u001b[0;34m.\u001b[0m\u001b[0m__load__\u001b[0m\u001b[0;34m(\u001b[0m\u001b[0mload_group\u001b[0m\u001b[0;34m)\u001b[0m\u001b[0;34m\u001b[0m\u001b[0;34m\u001b[0m\u001b[0m\n\u001b[0m\u001b[1;32m     91\u001b[0m                 \u001b[0mobj\u001b[0m\u001b[0;34m.\u001b[0m\u001b[0m_Ghost__set_loaded\u001b[0m\u001b[0;34m(\u001b[0m\u001b[0mload_group\u001b[0m\u001b[0;34m)\u001b[0m\u001b[0;34m\u001b[0m\u001b[0;34m\u001b[0m\u001b[0m\n\u001b[1;32m     92\u001b[0m \u001b[0;34m\u001b[0m\u001b[0m\n",
      "\u001b[0;32m~/.local/lib/python3.8/site-packages/cassiopeia/core/staticdata/champion.py\u001b[0m in \u001b[0;36m__load__\u001b[0;34m(self, load_group, load_groups)\u001b[0m\n\u001b[1;32m    633\u001b[0m \u001b[0;34m\u001b[0m\u001b[0m\n\u001b[1;32m    634\u001b[0m     \u001b[0;32mdef\u001b[0m \u001b[0m__load__\u001b[0m\u001b[0;34m(\u001b[0m\u001b[0mself\u001b[0m\u001b[0;34m,\u001b[0m \u001b[0mload_group\u001b[0m\u001b[0;34m:\u001b[0m \u001b[0mCoreData\u001b[0m \u001b[0;34m=\u001b[0m \u001b[0;32mNone\u001b[0m\u001b[0;34m,\u001b[0m \u001b[0mload_groups\u001b[0m\u001b[0;34m:\u001b[0m \u001b[0mSet\u001b[0m \u001b[0;34m=\u001b[0m \u001b[0;32mNone\u001b[0m\u001b[0;34m)\u001b[0m \u001b[0;34m->\u001b[0m \u001b[0;32mNone\u001b[0m\u001b[0;34m:\u001b[0m\u001b[0;34m\u001b[0m\u001b[0;34m\u001b[0m\u001b[0m\n\u001b[0;32m--> 635\u001b[0;31m         \u001b[0;32mreturn\u001b[0m \u001b[0msuper\u001b[0m\u001b[0;34m(\u001b[0m\u001b[0;34m)\u001b[0m\u001b[0;34m.\u001b[0m\u001b[0m__load__\u001b[0m\u001b[0;34m(\u001b[0m\u001b[0mload_group\u001b[0m\u001b[0;34m=\u001b[0m\u001b[0mload_group\u001b[0m\u001b[0;34m,\u001b[0m \u001b[0mload_groups\u001b[0m\u001b[0;34m=\u001b[0m\u001b[0mself\u001b[0m\u001b[0;34m.\u001b[0m\u001b[0m_data_types\u001b[0m\u001b[0;34m)\u001b[0m\u001b[0;34m\u001b[0m\u001b[0;34m\u001b[0m\u001b[0m\n\u001b[0m\u001b[1;32m    636\u001b[0m \u001b[0;34m\u001b[0m\u001b[0m\n\u001b[1;32m    637\u001b[0m     \u001b[0;31m# What do we do about params like this that can exist in both data objects?\u001b[0m\u001b[0;34m\u001b[0m\u001b[0;34m\u001b[0m\u001b[0;34m\u001b[0m\u001b[0m\n",
      "\u001b[0;32m~/.local/lib/python3.8/site-packages/cassiopeia/core/common.py\u001b[0m in \u001b[0;36m__load__\u001b[0;34m(self, load_group, load_groups)\u001b[0m\n\u001b[1;32m    279\u001b[0m             \u001b[0;32mif\u001b[0m \u001b[0mhasattr\u001b[0m\u001b[0;34m(\u001b[0m\u001b[0mself\u001b[0m\u001b[0;34m.\u001b[0m\u001b[0m__class__\u001b[0m\u001b[0;34m,\u001b[0m \u001b[0;34m\"version\"\u001b[0m\u001b[0;34m)\u001b[0m \u001b[0;32mand\u001b[0m \u001b[0;34m\"version\"\u001b[0m \u001b[0;32mnot\u001b[0m \u001b[0;32min\u001b[0m \u001b[0mquery\u001b[0m \u001b[0;32mand\u001b[0m \u001b[0;32mnot\u001b[0m \u001b[0mself\u001b[0m\u001b[0;34m.\u001b[0m\u001b[0m__class__\u001b[0m\u001b[0;34m.\u001b[0m\u001b[0m__name__\u001b[0m \u001b[0;34m==\u001b[0m \u001b[0;34m\"Realms\"\u001b[0m\u001b[0;34m:\u001b[0m\u001b[0;34m\u001b[0m\u001b[0;34m\u001b[0m\u001b[0m\n\u001b[1;32m    280\u001b[0m                 \u001b[0mquery\u001b[0m\u001b[0;34m[\u001b[0m\u001b[0;34m\"version\"\u001b[0m\u001b[0;34m]\u001b[0m \u001b[0;34m=\u001b[0m \u001b[0mget_latest_version\u001b[0m\u001b[0;34m(\u001b[0m\u001b[0mregion\u001b[0m\u001b[0;34m=\u001b[0m\u001b[0mquery\u001b[0m\u001b[0;34m[\u001b[0m\u001b[0;34m\"region\"\u001b[0m\u001b[0;34m]\u001b[0m\u001b[0;34m,\u001b[0m \u001b[0mendpoint\u001b[0m\u001b[0;34m=\u001b[0m\u001b[0;32mNone\u001b[0m\u001b[0;34m)\u001b[0m\u001b[0;34m\u001b[0m\u001b[0;34m\u001b[0m\u001b[0m\n\u001b[0;32m--> 281\u001b[0;31m             \u001b[0mdata\u001b[0m \u001b[0;34m=\u001b[0m \u001b[0mconfiguration\u001b[0m\u001b[0;34m.\u001b[0m\u001b[0msettings\u001b[0m\u001b[0;34m.\u001b[0m\u001b[0mpipeline\u001b[0m\u001b[0;34m.\u001b[0m\u001b[0mget\u001b[0m\u001b[0;34m(\u001b[0m\u001b[0mtype\u001b[0m\u001b[0;34m=\u001b[0m\u001b[0mself\u001b[0m\u001b[0;34m.\u001b[0m\u001b[0m_load_types\u001b[0m\u001b[0;34m[\u001b[0m\u001b[0mload_group\u001b[0m\u001b[0;34m]\u001b[0m\u001b[0;34m,\u001b[0m \u001b[0mquery\u001b[0m\u001b[0;34m=\u001b[0m\u001b[0mquery\u001b[0m\u001b[0;34m)\u001b[0m\u001b[0;34m\u001b[0m\u001b[0;34m\u001b[0m\u001b[0m\n\u001b[0m\u001b[1;32m    282\u001b[0m             \u001b[0mself\u001b[0m\u001b[0;34m.\u001b[0m\u001b[0m__load_hook__\u001b[0m\u001b[0;34m(\u001b[0m\u001b[0mload_group\u001b[0m\u001b[0;34m,\u001b[0m \u001b[0mdata\u001b[0m\u001b[0;34m)\u001b[0m\u001b[0;34m\u001b[0m\u001b[0;34m\u001b[0m\u001b[0m\n\u001b[1;32m    283\u001b[0m \u001b[0;34m\u001b[0m\u001b[0m\n",
      "\u001b[0;32m~/.local/lib/python3.8/site-packages/datapipelines/pipelines.py\u001b[0m in \u001b[0;36mget\u001b[0;34m(self, type, query)\u001b[0m\n\u001b[1;32m    461\u001b[0m                 \u001b[0;32mpass\u001b[0m\u001b[0;34m\u001b[0m\u001b[0;34m\u001b[0m\u001b[0m\n\u001b[1;32m    462\u001b[0m \u001b[0;34m\u001b[0m\u001b[0m\n\u001b[0;32m--> 463\u001b[0;31m         \u001b[0;32mraise\u001b[0m \u001b[0mNotFoundError\u001b[0m\u001b[0;34m(\u001b[0m\u001b[0;34m\"No source returned a query result!\"\u001b[0m\u001b[0;34m)\u001b[0m\u001b[0;34m\u001b[0m\u001b[0;34m\u001b[0m\u001b[0m\n\u001b[0m\u001b[1;32m    464\u001b[0m \u001b[0;34m\u001b[0m\u001b[0m\n\u001b[1;32m    465\u001b[0m     \u001b[0;32mdef\u001b[0m \u001b[0mget_many\u001b[0m\u001b[0;34m(\u001b[0m\u001b[0mself\u001b[0m\u001b[0;34m,\u001b[0m \u001b[0mtype\u001b[0m\u001b[0;34m:\u001b[0m \u001b[0mType\u001b[0m\u001b[0;34m[\u001b[0m\u001b[0mT\u001b[0m\u001b[0;34m]\u001b[0m\u001b[0;34m,\u001b[0m \u001b[0mquery\u001b[0m\u001b[0;34m:\u001b[0m \u001b[0mMapping\u001b[0m\u001b[0;34m[\u001b[0m\u001b[0mstr\u001b[0m\u001b[0;34m,\u001b[0m \u001b[0mAny\u001b[0m\u001b[0;34m]\u001b[0m\u001b[0;34m,\u001b[0m \u001b[0mstreaming\u001b[0m\u001b[0;34m:\u001b[0m \u001b[0mbool\u001b[0m \u001b[0;34m=\u001b[0m \u001b[0;32mFalse\u001b[0m\u001b[0;34m)\u001b[0m \u001b[0;34m->\u001b[0m \u001b[0mIterable\u001b[0m\u001b[0;34m[\u001b[0m\u001b[0mT\u001b[0m\u001b[0;34m]\u001b[0m\u001b[0;34m:\u001b[0m\u001b[0;34m\u001b[0m\u001b[0;34m\u001b[0m\u001b[0m\n",
      "\u001b[0;31mNotFoundError\u001b[0m: No source returned a query result!"
     ]
    }
   ],
   "source": [
    "cass.Champion(name=\"Cassioepia\", region=\"NA\").id"
   ]
  },
  {
   "cell_type": "code",
   "execution_count": null,
   "metadata": {},
   "outputs": [],
   "source": []
  }
 ],
 "metadata": {
  "kernelspec": {
   "display_name": "Python 3",
   "language": "python",
   "name": "python3"
  },
  "language_info": {
   "codemirror_mode": {
    "name": "ipython",
    "version": 3
   },
   "file_extension": ".py",
   "mimetype": "text/x-python",
   "name": "python",
   "nbconvert_exporter": "python",
   "pygments_lexer": "ipython3",
   "version": "3.8.2"
  }
 },
 "nbformat": 4,
 "nbformat_minor": 4
}
