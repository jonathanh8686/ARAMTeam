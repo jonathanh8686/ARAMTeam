{
 "cells": [
  {
   "cell_type": "code",
   "execution_count": 1,
   "metadata": {},
   "outputs": [],
   "source": [
    "import numpy as np\n",
    "import tensorflow as tf\n",
    "\n",
    "import json\n",
    "import keras\n",
    "from keras.models import Sequential\n",
    "from keras.layers import Dense, Flatten, Dropout\n",
    "\n",
    "from sklearn.model_selection import train_test_split\n"
   ]
  },
  {
   "cell_type": "code",
   "execution_count": 2,
   "metadata": {
    "scrolled": true
   },
   "outputs": [
    {
     "name": "stdout",
     "output_type": "stream",
     "text": [
      "4259\n"
     ]
    }
   ],
   "source": [
    "matches = json.loads(open(\"matches.dat\", \"r\").read())\n",
    "print(len(matches))"
   ]
  },
  {
   "cell_type": "code",
   "execution_count": 3,
   "metadata": {
    "scrolled": true
   },
   "outputs": [
    {
     "name": "stdout",
     "output_type": "stream",
     "text": [
      "{15: 0, 41: 1, 43: 2, 222: 3, 238: 4, 268: 5, 68: 6, 29: 7, 163: 8, 81: 9, 112: 10, 117: 11, 119: 12, 164: 13, 26: 14, 61: 15, 245: 16, 98: 17, 126: 18, 24: 19, 518: 20, 101: 21, 11: 22, 76: 23, 79: 24, 30: 25, 50: 26, 145: 27, 20: 28, 21: 29, 54: 30, 22: 31, 8: 32, 51: 33, 32: 34, 3: 35, 498: 36, 122: 37, 45: 38, 67: 39, 102: 40, 114: 41, 4: 42, 48: 43, 202: 44, 25: 45, 111: 46, 412: 47, 63: 48, 23: 49, 427: 50, 235: 51, 57: 52, 127: 53, 60: 54, 875: 55, 19: 56, 103: 57, 432: 58, 44: 59, 420: 60, 517: 61, 350: 62, 7: 63, 10: 64, 31: 65, 14: 66, 40: 67, 516: 68, 154: 69, 104: 70, 203: 71, 89: 72, 53: 73, 131: 74, 74: 75, 55: 76, 1: 77, 429: 78, 34: 79, 13: 80, 99: 81, 90: 82, 110: 83, 85: 84, 17: 85, 91: 86, 80: 87, 136: 88, 39: 89, 18: 90, 254: 91, 72: 92, 555: 93, 2: 94, 161: 95, 16: 96, 96: 97, 223: 98, 134: 99, 92: 100, 84: 101, 113: 102, 35: 103, 9: 104, 497: 105, 266: 106, 267: 107, 142: 108, 36: 109, 133: 110, 201: 111, 78: 112, 157: 113, 59: 114, 246: 115, 37: 116, 121: 117, 12: 118, 86: 119, 236: 120, 64: 121, 62: 122, 141: 123, 240: 124, 42: 125, 115: 126, 75: 127, 150: 128, 107: 129, 120: 130, 82: 131, 28: 132, 58: 133, 38: 134, 105: 135, 106: 136, 143: 137, 5: 138, 83: 139, 27: 140, 69: 141, 77: 142, 6: 143, 421: 144, 33: 145, 523: 146, 56: 147}\n"
     ]
    }
   ],
   "source": [
    "# because riot randomly (????) assigns their keys to champions (????????)\n",
    "\n",
    "keyid = {}\n",
    "for match in matches:\n",
    "    for c in match[\"blueteam\"]:\n",
    "        if(c not in keyid):\n",
    "            keyid[c] = len(keyid.keys())\n",
    "    for c in match[\"redteam\"]:\n",
    "        if(c not in keyid):\n",
    "            keyid[c] = len(keyid.keys())\n",
    "\n",
    "print(keyid)"
   ]
  },
  {
   "cell_type": "code",
   "execution_count": 4,
   "metadata": {},
   "outputs": [],
   "source": [
    "def get_x_from_teams(blueteam, redteam):\n",
    "    xtemp = []\n",
    "    for c in blueteam:\n",
    "        xtemp.append(tf.keras.utils.to_categorical(keyid[c], num_classes=149))\n",
    "    \n",
    "    for c in redteam:\n",
    "        xtemp.append(tf.keras.utils.to_categorical(keyid[c], num_classes=149))\n",
    "    return xtemp"
   ]
  },
  {
   "cell_type": "code",
   "execution_count": 5,
   "metadata": {},
   "outputs": [],
   "source": [
    "x_data, y_data = [], []\n",
    "\n",
    "for match in matches:\n",
    "    blueteam = match[\"blueteam\"]\n",
    "    redteam = match[\"redteam\"]\n",
    "    \n",
    "    x_data.append(get_x_from_teams(blueteam, redteam))\n",
    "    y_data.append([1, 0] if match[\"result\"] == 1 else [0, 1])"
   ]
  },
  {
   "cell_type": "code",
   "execution_count": 6,
   "metadata": {},
   "outputs": [],
   "source": [
    "train_x, test_x, train_y, test_y = train_test_split(x_data, y_data, test_size=0.2)\n",
    "\n",
    "train_x = np.array(train_x)\n",
    "train_y = np.array(train_y)\n",
    "\n",
    "test_x = np.array(test_x)\n",
    "test_y = np.array(test_y)"
   ]
  },
  {
   "cell_type": "code",
   "execution_count": 7,
   "metadata": {},
   "outputs": [],
   "source": [
    "model = Sequential()\n",
    "\n",
    "model.add(Flatten(input_shape=(10, 149)))\n",
    "\n",
    "model.add(Dropout(0.5))\n",
    "model.add(Dense(4, activation=\"relu\"))\n",
    "\n",
    "model.add(Dense(2, activation=\"softmax\"))\n",
    "\n",
    "model.compile(loss='categorical_crossentropy', optimizer='adam', metrics=['accuracy'])"
   ]
  },
  {
   "cell_type": "code",
   "execution_count": 8,
   "metadata": {},
   "outputs": [
    {
     "name": "stdout",
     "output_type": "stream",
     "text": [
      "Epoch 1/100\n",
      "384/384 [==============================] - 1s 2ms/step - loss: 0.6943 - accuracy: 0.5160 - val_loss: 0.6913 - val_accuracy: 0.5329\n",
      "Epoch 2/100\n",
      "384/384 [==============================] - 1s 2ms/step - loss: 0.6740 - accuracy: 0.5990 - val_loss: 0.6864 - val_accuracy: 0.5751\n",
      "Epoch 3/100\n",
      "384/384 [==============================] - 1s 2ms/step - loss: 0.6380 - accuracy: 0.6820 - val_loss: 0.6792 - val_accuracy: 0.5728\n",
      "Epoch 4/100\n",
      "384/384 [==============================] - 1s 2ms/step - loss: 0.5961 - accuracy: 0.7177 - val_loss: 0.6787 - val_accuracy: 0.5845\n",
      "Epoch 5/100\n",
      "384/384 [==============================] - 1s 2ms/step - loss: 0.5677 - accuracy: 0.7357 - val_loss: 0.6915 - val_accuracy: 0.5728\n",
      "Epoch 6/100\n",
      "384/384 [==============================] - 1s 2ms/step - loss: 0.5360 - accuracy: 0.7602 - val_loss: 0.7064 - val_accuracy: 0.5540\n",
      "Epoch 7/100\n",
      "384/384 [==============================] - 1s 2ms/step - loss: 0.5105 - accuracy: 0.7722 - val_loss: 0.7141 - val_accuracy: 0.5563\n",
      "Epoch 8/100\n",
      "384/384 [==============================] - 1s 2ms/step - loss: 0.4911 - accuracy: 0.7855 - val_loss: 0.7257 - val_accuracy: 0.5728\n",
      "Epoch 9/100\n",
      "384/384 [==============================] - 1s 2ms/step - loss: 0.4686 - accuracy: 0.8041 - val_loss: 0.7461 - val_accuracy: 0.5610\n",
      "Epoch 10/100\n",
      "384/384 [==============================] - 1s 2ms/step - loss: 0.4490 - accuracy: 0.8077 - val_loss: 0.7644 - val_accuracy: 0.5728\n",
      "Epoch 11/100\n",
      "384/384 [==============================] - 1s 2ms/step - loss: 0.4323 - accuracy: 0.8210 - val_loss: 0.7660 - val_accuracy: 0.5657\n",
      "Epoch 12/100\n",
      "384/384 [==============================] - 1s 1ms/step - loss: 0.4115 - accuracy: 0.8346 - val_loss: 0.7930 - val_accuracy: 0.5610\n",
      "Epoch 13/100\n",
      "384/384 [==============================] - 1s 2ms/step - loss: 0.3904 - accuracy: 0.8466 - val_loss: 0.8100 - val_accuracy: 0.5587\n",
      "Epoch 14/100\n",
      "384/384 [==============================] - 1s 2ms/step - loss: 0.3865 - accuracy: 0.8471 - val_loss: 0.8113 - val_accuracy: 0.5704\n",
      "Epoch 15/100\n",
      "384/384 [==============================] - 1s 2ms/step - loss: 0.3724 - accuracy: 0.8557 - val_loss: 0.8256 - val_accuracy: 0.5657\n",
      "Epoch 16/100\n",
      "384/384 [==============================] - 1s 2ms/step - loss: 0.3556 - accuracy: 0.8667 - val_loss: 0.8419 - val_accuracy: 0.5446\n",
      "Epoch 17/100\n",
      "384/384 [==============================] - 1s 2ms/step - loss: 0.3483 - accuracy: 0.8641 - val_loss: 0.8703 - val_accuracy: 0.5704\n",
      "Epoch 18/100\n",
      "384/384 [==============================] - 1s 2ms/step - loss: 0.3364 - accuracy: 0.8774 - val_loss: 0.8799 - val_accuracy: 0.5469\n",
      "Epoch 19/100\n",
      "384/384 [==============================] - 1s 2ms/step - loss: 0.3250 - accuracy: 0.8784 - val_loss: 0.9134 - val_accuracy: 0.5540\n",
      "Epoch 20/100\n",
      "384/384 [==============================] - 1s 2ms/step - loss: 0.3273 - accuracy: 0.8758 - val_loss: 0.9108 - val_accuracy: 0.5423\n",
      "Epoch 21/100\n",
      "384/384 [==============================] - 1s 2ms/step - loss: 0.3108 - accuracy: 0.8839 - val_loss: 0.9196 - val_accuracy: 0.5423\n",
      "Epoch 22/100\n",
      "384/384 [==============================] - 1s 2ms/step - loss: 0.2983 - accuracy: 0.8943 - val_loss: 0.9532 - val_accuracy: 0.5423\n",
      "Epoch 23/100\n",
      "384/384 [==============================] - 1s 2ms/step - loss: 0.2917 - accuracy: 0.8951 - val_loss: 0.9623 - val_accuracy: 0.5376\n",
      "Epoch 24/100\n",
      "384/384 [==============================] - 1s 2ms/step - loss: 0.2885 - accuracy: 0.8925 - val_loss: 0.9818 - val_accuracy: 0.5469\n",
      "Epoch 25/100\n",
      "384/384 [==============================] - 1s 2ms/step - loss: 0.2823 - accuracy: 0.8930 - val_loss: 0.9856 - val_accuracy: 0.5493\n",
      "Epoch 26/100\n",
      "384/384 [==============================] - 1s 2ms/step - loss: 0.2712 - accuracy: 0.8998 - val_loss: 1.0040 - val_accuracy: 0.5516\n",
      "Epoch 27/100\n",
      "384/384 [==============================] - 1s 2ms/step - loss: 0.2616 - accuracy: 0.9058 - val_loss: 1.0241 - val_accuracy: 0.5469\n",
      "Epoch 28/100\n",
      "384/384 [==============================] - 1s 2ms/step - loss: 0.2691 - accuracy: 0.8996 - val_loss: 1.0391 - val_accuracy: 0.5469\n",
      "Epoch 29/100\n",
      "384/384 [==============================] - 1s 2ms/step - loss: 0.2635 - accuracy: 0.9016 - val_loss: 1.0656 - val_accuracy: 0.5352\n",
      "Epoch 30/100\n",
      "384/384 [==============================] - 1s 2ms/step - loss: 0.2561 - accuracy: 0.9029 - val_loss: 1.0805 - val_accuracy: 0.5446\n",
      "Epoch 31/100\n",
      "384/384 [==============================] - 1s 2ms/step - loss: 0.2558 - accuracy: 0.9079 - val_loss: 1.0943 - val_accuracy: 0.5493\n",
      "Epoch 32/100\n",
      "384/384 [==============================] - 1s 2ms/step - loss: 0.2558 - accuracy: 0.9037 - val_loss: 1.1124 - val_accuracy: 0.5376\n",
      "Epoch 33/100\n",
      "384/384 [==============================] - 1s 2ms/step - loss: 0.2525 - accuracy: 0.9024 - val_loss: 1.1309 - val_accuracy: 0.5516\n",
      "Epoch 34/100\n",
      "384/384 [==============================] - 1s 2ms/step - loss: 0.2391 - accuracy: 0.9084 - val_loss: 1.1479 - val_accuracy: 0.5329\n",
      "Epoch 35/100\n",
      "384/384 [==============================] - 1s 2ms/step - loss: 0.2380 - accuracy: 0.9108 - val_loss: 1.1603 - val_accuracy: 0.5329\n",
      "Epoch 36/100\n",
      "384/384 [==============================] - 1s 2ms/step - loss: 0.2307 - accuracy: 0.9079 - val_loss: 1.1729 - val_accuracy: 0.5352\n",
      "Epoch 37/100\n",
      "384/384 [==============================] - 1s 2ms/step - loss: 0.2312 - accuracy: 0.9139 - val_loss: 1.1752 - val_accuracy: 0.5399\n",
      "Epoch 38/100\n",
      "384/384 [==============================] - 1s 2ms/step - loss: 0.2354 - accuracy: 0.9152 - val_loss: 1.1976 - val_accuracy: 0.5352\n",
      "Epoch 39/100\n",
      "384/384 [==============================] - 1s 2ms/step - loss: 0.2214 - accuracy: 0.9189 - val_loss: 1.2106 - val_accuracy: 0.5493\n",
      "Epoch 40/100\n",
      "384/384 [==============================] - 1s 2ms/step - loss: 0.2327 - accuracy: 0.9155 - val_loss: 1.2223 - val_accuracy: 0.5352\n",
      "Epoch 41/100\n",
      "384/384 [==============================] - 1s 2ms/step - loss: 0.2277 - accuracy: 0.9149 - val_loss: 1.2371 - val_accuracy: 0.5305\n",
      "Epoch 42/100\n",
      "384/384 [==============================] - 1s 2ms/step - loss: 0.2204 - accuracy: 0.9155 - val_loss: 1.2590 - val_accuracy: 0.5282\n",
      "Epoch 43/100\n",
      "384/384 [==============================] - 1s 2ms/step - loss: 0.2145 - accuracy: 0.9236 - val_loss: 1.2586 - val_accuracy: 0.5376\n",
      "Epoch 44/100\n",
      "384/384 [==============================] - 1s 2ms/step - loss: 0.2069 - accuracy: 0.9241 - val_loss: 1.2719 - val_accuracy: 0.5423\n",
      "Epoch 45/100\n",
      "384/384 [==============================] - 1s 2ms/step - loss: 0.2088 - accuracy: 0.9186 - val_loss: 1.2987 - val_accuracy: 0.5258\n",
      "Epoch 46/100\n",
      "384/384 [==============================] - 1s 2ms/step - loss: 0.2116 - accuracy: 0.9204 - val_loss: 1.2974 - val_accuracy: 0.5282\n",
      "Epoch 47/100\n",
      "384/384 [==============================] - 1s 2ms/step - loss: 0.2148 - accuracy: 0.9204 - val_loss: 1.2989 - val_accuracy: 0.5211\n",
      "Epoch 48/100\n",
      "384/384 [==============================] - 1s 2ms/step - loss: 0.2019 - accuracy: 0.9230 - val_loss: 1.3183 - val_accuracy: 0.5141\n",
      "Epoch 49/100\n",
      "384/384 [==============================] - 1s 2ms/step - loss: 0.2236 - accuracy: 0.9173 - val_loss: 1.3081 - val_accuracy: 0.5188\n",
      "Epoch 50/100\n",
      "384/384 [==============================] - 1s 2ms/step - loss: 0.1996 - accuracy: 0.9290 - val_loss: 1.3051 - val_accuracy: 0.5141\n",
      "Epoch 51/100\n",
      "384/384 [==============================] - 1s 2ms/step - loss: 0.2096 - accuracy: 0.9199 - val_loss: 1.3193 - val_accuracy: 0.5352\n",
      "Epoch 52/100\n",
      "384/384 [==============================] - 1s 3ms/step - loss: 0.2030 - accuracy: 0.9228 - val_loss: 1.3407 - val_accuracy: 0.5235\n",
      "Epoch 53/100\n",
      "384/384 [==============================] - 1s 2ms/step - loss: 0.1924 - accuracy: 0.9283 - val_loss: 1.3552 - val_accuracy: 0.5305\n",
      "Epoch 54/100\n",
      "384/384 [==============================] - 1s 2ms/step - loss: 0.2021 - accuracy: 0.9236 - val_loss: 1.3526 - val_accuracy: 0.5235\n",
      "Epoch 55/100\n",
      "384/384 [==============================] - 1s 3ms/step - loss: 0.1926 - accuracy: 0.9293 - val_loss: 1.3549 - val_accuracy: 0.5282\n",
      "Epoch 56/100\n",
      "384/384 [==============================] - 1s 2ms/step - loss: 0.1935 - accuracy: 0.9254 - val_loss: 1.3654 - val_accuracy: 0.5235\n",
      "Epoch 57/100\n",
      "384/384 [==============================] - 1s 1ms/step - loss: 0.2024 - accuracy: 0.9262 - val_loss: 1.3719 - val_accuracy: 0.5305\n"
     ]
    },
    {
     "name": "stdout",
     "output_type": "stream",
     "text": [
      "Epoch 58/100\n",
      "384/384 [==============================] - 1s 2ms/step - loss: 0.1940 - accuracy: 0.9267 - val_loss: 1.3793 - val_accuracy: 0.5352\n",
      "Epoch 59/100\n",
      "384/384 [==============================] - 1s 3ms/step - loss: 0.2043 - accuracy: 0.9204 - val_loss: 1.3719 - val_accuracy: 0.5235\n",
      "Epoch 60/100\n",
      "384/384 [==============================] - 1s 2ms/step - loss: 0.1930 - accuracy: 0.9283 - val_loss: 1.3746 - val_accuracy: 0.5282\n",
      "Epoch 61/100\n",
      "384/384 [==============================] - 1s 1ms/step - loss: 0.1911 - accuracy: 0.9275 - val_loss: 1.3827 - val_accuracy: 0.5258\n",
      "Epoch 62/100\n",
      "384/384 [==============================] - 0s 1ms/step - loss: 0.1965 - accuracy: 0.9233 - val_loss: 1.3786 - val_accuracy: 0.5305\n",
      "Epoch 63/100\n",
      "384/384 [==============================] - 0s 1ms/step - loss: 0.1992 - accuracy: 0.9238 - val_loss: 1.3698 - val_accuracy: 0.5258\n",
      "Epoch 64/100\n",
      "384/384 [==============================] - 0s 1ms/step - loss: 0.1971 - accuracy: 0.9238 - val_loss: 1.3750 - val_accuracy: 0.5188\n",
      "Epoch 65/100\n",
      "384/384 [==============================] - 0s 1ms/step - loss: 0.1944 - accuracy: 0.9267 - val_loss: 1.3931 - val_accuracy: 0.5258\n",
      "Epoch 66/100\n",
      "384/384 [==============================] - 0s 1ms/step - loss: 0.2034 - accuracy: 0.9183 - val_loss: 1.3957 - val_accuracy: 0.5211\n",
      "Epoch 67/100\n",
      "384/384 [==============================] - 0s 1ms/step - loss: 0.1891 - accuracy: 0.9290 - val_loss: 1.3939 - val_accuracy: 0.5282\n",
      "Epoch 68/100\n",
      "384/384 [==============================] - 0s 1ms/step - loss: 0.2040 - accuracy: 0.9183 - val_loss: 1.4262 - val_accuracy: 0.5352\n",
      "Epoch 69/100\n",
      "384/384 [==============================] - 0s 1ms/step - loss: 0.1868 - accuracy: 0.9316 - val_loss: 1.4243 - val_accuracy: 0.5352\n",
      "Epoch 70/100\n",
      "384/384 [==============================] - 0s 1ms/step - loss: 0.1777 - accuracy: 0.9343 - val_loss: 1.4383 - val_accuracy: 0.5305\n",
      "Epoch 71/100\n",
      "384/384 [==============================] - 0s 1ms/step - loss: 0.2018 - accuracy: 0.9241 - val_loss: 1.4599 - val_accuracy: 0.5164\n",
      "Epoch 72/100\n",
      "384/384 [==============================] - 1s 2ms/step - loss: 0.1903 - accuracy: 0.9275 - val_loss: 1.4539 - val_accuracy: 0.5305\n",
      "Epoch 73/100\n",
      "384/384 [==============================] - 1s 2ms/step - loss: 0.1999 - accuracy: 0.9254 - val_loss: 1.4453 - val_accuracy: 0.5329\n",
      "Epoch 74/100\n",
      "384/384 [==============================] - 1s 2ms/step - loss: 0.1975 - accuracy: 0.9228 - val_loss: 1.4530 - val_accuracy: 0.5329\n",
      "Epoch 75/100\n",
      "384/384 [==============================] - 1s 1ms/step - loss: 0.1740 - accuracy: 0.9324 - val_loss: 1.4593 - val_accuracy: 0.5352\n",
      "Epoch 76/100\n",
      "384/384 [==============================] - 1s 1ms/step - loss: 0.1771 - accuracy: 0.9348 - val_loss: 1.4750 - val_accuracy: 0.5376\n",
      "Epoch 77/100\n",
      "384/384 [==============================] - 1s 1ms/step - loss: 0.1803 - accuracy: 0.9314 - val_loss: 1.4714 - val_accuracy: 0.5164\n",
      "Epoch 78/100\n",
      "384/384 [==============================] - 1s 1ms/step - loss: 0.1942 - accuracy: 0.9259 - val_loss: 1.4671 - val_accuracy: 0.5235\n",
      "Epoch 79/100\n",
      "384/384 [==============================] - 0s 1ms/step - loss: 0.1836 - accuracy: 0.9283 - val_loss: 1.4780 - val_accuracy: 0.5282\n",
      "Epoch 80/100\n",
      "384/384 [==============================] - 1s 2ms/step - loss: 0.1801 - accuracy: 0.9335 - val_loss: 1.4887 - val_accuracy: 0.5211\n",
      "Epoch 81/100\n",
      "384/384 [==============================] - 0s 1ms/step - loss: 0.1971 - accuracy: 0.9285 - val_loss: 1.4867 - val_accuracy: 0.5258\n",
      "Epoch 82/100\n",
      "384/384 [==============================] - 0s 1ms/step - loss: 0.1789 - accuracy: 0.9311 - val_loss: 1.5088 - val_accuracy: 0.5305\n",
      "Epoch 83/100\n",
      "384/384 [==============================] - 0s 1ms/step - loss: 0.1871 - accuracy: 0.9301 - val_loss: 1.5059 - val_accuracy: 0.5305\n",
      "Epoch 84/100\n",
      "384/384 [==============================] - 1s 2ms/step - loss: 0.1711 - accuracy: 0.9374 - val_loss: 1.5073 - val_accuracy: 0.5329\n",
      "Epoch 85/100\n",
      "384/384 [==============================] - 1s 2ms/step - loss: 0.1859 - accuracy: 0.9306 - val_loss: 1.5084 - val_accuracy: 0.5211\n",
      "Epoch 86/100\n",
      "384/384 [==============================] - 1s 3ms/step - loss: 0.1819 - accuracy: 0.9309 - val_loss: 1.5091 - val_accuracy: 0.5258\n",
      "Epoch 87/100\n",
      "384/384 [==============================] - 1s 2ms/step - loss: 0.1710 - accuracy: 0.9363 - val_loss: 1.5073 - val_accuracy: 0.5188\n",
      "Epoch 88/100\n",
      "384/384 [==============================] - 1s 2ms/step - loss: 0.1778 - accuracy: 0.9348 - val_loss: 1.5104 - val_accuracy: 0.5258\n",
      "Epoch 89/100\n",
      "384/384 [==============================] - 1s 2ms/step - loss: 0.1615 - accuracy: 0.9455 - val_loss: 1.5141 - val_accuracy: 0.5282\n",
      "Epoch 90/100\n",
      "384/384 [==============================] - 1s 2ms/step - loss: 0.1825 - accuracy: 0.9303 - val_loss: 1.5221 - val_accuracy: 0.5282\n",
      "Epoch 91/100\n",
      "384/384 [==============================] - 1s 3ms/step - loss: 0.1892 - accuracy: 0.9267 - val_loss: 1.5166 - val_accuracy: 0.5258\n",
      "Epoch 92/100\n",
      "384/384 [==============================] - 1s 2ms/step - loss: 0.1758 - accuracy: 0.9335 - val_loss: 1.5415 - val_accuracy: 0.5258\n",
      "Epoch 93/100\n",
      "384/384 [==============================] - 1s 3ms/step - loss: 0.1842 - accuracy: 0.9277 - val_loss: 1.5485 - val_accuracy: 0.5235\n",
      "Epoch 94/100\n",
      "384/384 [==============================] - 1s 3ms/step - loss: 0.1681 - accuracy: 0.9353 - val_loss: 1.5436 - val_accuracy: 0.5258\n",
      "Epoch 95/100\n",
      "384/384 [==============================] - 1s 3ms/step - loss: 0.1811 - accuracy: 0.9332 - val_loss: 1.5444 - val_accuracy: 0.5282\n",
      "Epoch 96/100\n",
      "384/384 [==============================] - 1s 2ms/step - loss: 0.1672 - accuracy: 0.9403 - val_loss: 1.5446 - val_accuracy: 0.5235\n",
      "Epoch 97/100\n",
      "384/384 [==============================] - 1s 2ms/step - loss: 0.1673 - accuracy: 0.9390 - val_loss: 1.5394 - val_accuracy: 0.5188\n",
      "Epoch 98/100\n",
      "384/384 [==============================] - 0s 1ms/step - loss: 0.1657 - accuracy: 0.9366 - val_loss: 1.5393 - val_accuracy: 0.5258\n",
      "Epoch 99/100\n",
      "384/384 [==============================] - 0s 1ms/step - loss: 0.1761 - accuracy: 0.9301 - val_loss: 1.5326 - val_accuracy: 0.5164\n",
      "Epoch 100/100\n",
      "384/384 [==============================] - 0s 1ms/step - loss: 0.1991 - accuracy: 0.9259 - val_loss: 1.5491 - val_accuracy: 0.5258\n"
     ]
    }
   ],
   "source": [
    "history = model.fit(train_x, train_y, epochs=100, batch_size=10, validation_data=(test_x, test_y))\n"
   ]
  },
  {
   "cell_type": "code",
   "execution_count": 9,
   "metadata": {},
   "outputs": [
    {
     "name": "stdout",
     "output_type": "stream",
     "text": [
      "0\n",
      "[[0.8827455 0.1172545]]\n"
     ]
    }
   ],
   "source": [
    "blueteam = [103, 96, 40, 54, 75]\n",
    "redteam = [15, 161, 14, 99, 26]\n",
    "\n",
    "\n",
    "custx, custy = [], []\n",
    "\n",
    "tmp = []\n",
    "for c in blueteam:\n",
    "    tmp.append(tf.keras.utils.to_categorical(keyid[c], num_classes=149))\n",
    "    \n",
    "for c in redteam:\n",
    "    tmp.append(tf.keras.utils.to_categorical(keyid[c], num_classes=149))\n",
    "    \n",
    "custx.append(tmp)\n",
    "\n",
    "custy = model.predict(np.array(custx))\n",
    "\n",
    "print(np.argmax(custy))\n",
    "print(custy)"
   ]
  },
  {
   "cell_type": "code",
   "execution_count": 14,
   "metadata": {},
   "outputs": [
    {
     "data": {
      "image/png": "[encoded data removed]",
      "text/plain": [
       "<Figure size 432x288 with 1 Axes>"
      ]
     },
     "metadata": {
      "needs_background": "light"
     },
     "output_type": "display_data"
    },
    {
     "data": {
      "image/png": "[encoded data removed]",
      "text/plain": [
       "<Figure size 432x288 with 1 Axes>"
      ]
     },
     "metadata": {
      "needs_background": "light"
     },
     "output_type": "display_data"
    }
   ],
   "source": [
    "import matplotlib.pyplot as plt\n",
    "plt.plot(history.history['accuracy'])\n",
    "plt.plot(history.history['val_accuracy'])\n",
    "plt.title('Model accuracy')\n",
    "plt.ylabel('Accuracy')\n",
    "plt.xlabel('Epoch')\n",
    "plt.legend(['Train', 'Test'], loc='upper left')\n",
    "plt.show()\n",
    "\n",
    "plt.plot(history.history['loss'])\n",
    "plt.plot(history.history['val_loss']) \n",
    "plt.title('Model loss') \n",
    "plt.ylabel('Loss') \n",
    "plt.xlabel('Epoch') \n",
    "plt.legend(['Train', 'Test'], loc='upper left') \n",
    "plt.show()"
   ]
  },
  {
   "cell_type": "code",
   "execution_count": null,
   "metadata": {},
   "outputs": [],
   "source": []
  }
 ],
 "metadata": {
  "kernelspec": {
   "display_name": "Python 3",
   "language": "python",
   "name": "python3"
  },
  "language_info": {
   "codemirror_mode": {
    "name": "ipython",
    "version": 3
   },
   "file_extension": ".py",
   "mimetype": "text/x-python",
   "name": "python",
   "nbconvert_exporter": "python",
   "pygments_lexer": "ipython3",
   "version": "3.8.2"
  }
 },
 "nbformat": 4,
 "nbformat_minor": 4
}
